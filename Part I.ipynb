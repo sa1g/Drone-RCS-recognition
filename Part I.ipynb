{
 "cells": [
  {
   "cell_type": "markdown",
   "id": "01e0d730",
   "metadata": {},
   "source": [
    "### Hello World Python3"
   ]
  },
  {
   "cell_type": "code",
   "execution_count": 39,
   "id": "4ebe6323",
   "metadata": {},
   "outputs": [
    {
     "name": "stdout",
     "output_type": "stream",
     "text": [
      "Hello World!\n"
     ]
    }
   ],
   "source": [
    "print(\"Hello World!\")"
   ]
  },
  {
   "cell_type": "markdown",
   "id": "1ab43baa",
   "metadata": {},
   "source": [
    "### Importing Pandas and first csv"
   ]
  },
  {
   "cell_type": "code",
   "execution_count": 1,
   "id": "8b31acc3",
   "metadata": {},
   "outputs": [
    {
     "data": {
      "text/html": [
       "<div>\n",
       "<style scoped>\n",
       "    .dataframe tbody tr th:only-of-type {\n",
       "        vertical-align: middle;\n",
       "    }\n",
       "\n",
       "    .dataframe tbody tr th {\n",
       "        vertical-align: top;\n",
       "    }\n",
       "\n",
       "    .dataframe thead th {\n",
       "        text-align: right;\n",
       "    }\n",
       "</style>\n",
       "<table border=\"1\" class=\"dataframe\">\n",
       "  <thead>\n",
       "    <tr style=\"text-align: right;\">\n",
       "      <th></th>\n",
       "      <th>f[GHz]</th>\n",
       "      <th>theta[deg]</th>\n",
       "      <th>phi[deg]</th>\n",
       "      <th>RCS[dB]</th>\n",
       "    </tr>\n",
       "  </thead>\n",
       "  <tbody>\n",
       "    <tr>\n",
       "      <th>0</th>\n",
       "      <td>26</td>\n",
       "      <td>-90</td>\n",
       "      <td>0</td>\n",
       "      <td>-36.6740</td>\n",
       "    </tr>\n",
       "    <tr>\n",
       "      <th>1</th>\n",
       "      <td>26</td>\n",
       "      <td>-89</td>\n",
       "      <td>0</td>\n",
       "      <td>-32.8700</td>\n",
       "    </tr>\n",
       "    <tr>\n",
       "      <th>2</th>\n",
       "      <td>26</td>\n",
       "      <td>-88</td>\n",
       "      <td>0</td>\n",
       "      <td>-27.6460</td>\n",
       "    </tr>\n",
       "    <tr>\n",
       "      <th>3</th>\n",
       "      <td>26</td>\n",
       "      <td>-87</td>\n",
       "      <td>0</td>\n",
       "      <td>-21.8830</td>\n",
       "    </tr>\n",
       "    <tr>\n",
       "      <th>4</th>\n",
       "      <td>26</td>\n",
       "      <td>-86</td>\n",
       "      <td>0</td>\n",
       "      <td>-18.1820</td>\n",
       "    </tr>\n",
       "    <tr>\n",
       "      <th>...</th>\n",
       "      <td>...</td>\n",
       "      <td>...</td>\n",
       "      <td>...</td>\n",
       "      <td>...</td>\n",
       "    </tr>\n",
       "    <tr>\n",
       "      <th>491410</th>\n",
       "      <td>40</td>\n",
       "      <td>86</td>\n",
       "      <td>180</td>\n",
       "      <td>-10.2940</td>\n",
       "    </tr>\n",
       "    <tr>\n",
       "      <th>491411</th>\n",
       "      <td>40</td>\n",
       "      <td>87</td>\n",
       "      <td>180</td>\n",
       "      <td>-12.2270</td>\n",
       "    </tr>\n",
       "    <tr>\n",
       "      <th>491412</th>\n",
       "      <td>40</td>\n",
       "      <td>88</td>\n",
       "      <td>180</td>\n",
       "      <td>-8.8701</td>\n",
       "    </tr>\n",
       "    <tr>\n",
       "      <th>491413</th>\n",
       "      <td>40</td>\n",
       "      <td>89</td>\n",
       "      <td>180</td>\n",
       "      <td>-11.6480</td>\n",
       "    </tr>\n",
       "    <tr>\n",
       "      <th>491414</th>\n",
       "      <td>40</td>\n",
       "      <td>90</td>\n",
       "      <td>180</td>\n",
       "      <td>-20.8360</td>\n",
       "    </tr>\n",
       "  </tbody>\n",
       "</table>\n",
       "<p>491415 rows × 4 columns</p>\n",
       "</div>"
      ],
      "text/plain": [
       "        f[GHz]  theta[deg]  phi[deg]  RCS[dB]\n",
       "0           26         -90         0 -36.6740\n",
       "1           26         -89         0 -32.8700\n",
       "2           26         -88         0 -27.6460\n",
       "3           26         -87         0 -21.8830\n",
       "4           26         -86         0 -18.1820\n",
       "...        ...         ...       ...      ...\n",
       "491410      40          86       180 -10.2940\n",
       "491411      40          87       180 -12.2270\n",
       "491412      40          88       180  -8.8701\n",
       "491413      40          89       180 -11.6480\n",
       "491414      40          90       180 -20.8360\n",
       "\n",
       "[491415 rows x 4 columns]"
      ]
     },
     "execution_count": 1,
     "metadata": {},
     "output_type": "execute_result"
    }
   ],
   "source": [
    "import pandas as pd\n",
    "# import F450_HH.csv\n",
    "df = pd.read_csv('Drone_RCS_Measurement_Dataset/F450_HH.csv')\n",
    "df"
   ]
  },
  {
   "cell_type": "markdown",
   "id": "c39d8cdd",
   "metadata": {},
   "source": [
    "### Check for NaN"
   ]
  },
  {
   "cell_type": "code",
   "execution_count": 41,
   "id": "337e7550",
   "metadata": {},
   "outputs": [
    {
     "data": {
      "text/plain": [
       "False"
      ]
     },
     "execution_count": 41,
     "metadata": {},
     "output_type": "execute_result"
    }
   ],
   "source": [
    "df.isnull().values.any()"
   ]
  },
  {
   "cell_type": "markdown",
   "id": "33eb9d52",
   "metadata": {},
   "source": [
    "##### So we know there are no NaN"
   ]
  },
  {
   "cell_type": "markdown",
   "id": "4b07c3b2",
   "metadata": {},
   "source": [
    "### #Check for Duplicates"
   ]
  },
  {
   "cell_type": "code",
   "execution_count": 42,
   "id": "0438efcd",
   "metadata": {},
   "outputs": [],
   "source": [
    "# tf_duplicates_removed = df.drop_duplicates()\n",
    "# print(tf_duplicates_removed)"
   ]
  },
  {
   "cell_type": "markdown",
   "id": "296c3430",
   "metadata": {},
   "source": [
    "### Shape and Description of DS - Kind of useless"
   ]
  },
  {
   "cell_type": "code",
   "execution_count": 43,
   "id": "b4e8d5d8",
   "metadata": {},
   "outputs": [
    {
     "data": {
      "text/plain": [
       "(491415, 4)"
      ]
     },
     "execution_count": 43,
     "metadata": {},
     "output_type": "execute_result"
    }
   ],
   "source": [
    "df.shape"
   ]
  },
  {
   "cell_type": "code",
   "execution_count": 44,
   "id": "e390c47f",
   "metadata": {},
   "outputs": [
    {
     "data": {
      "text/html": [
       "<div>\n",
       "<style scoped>\n",
       "    .dataframe tbody tr th:only-of-type {\n",
       "        vertical-align: middle;\n",
       "    }\n",
       "\n",
       "    .dataframe tbody tr th {\n",
       "        vertical-align: top;\n",
       "    }\n",
       "\n",
       "    .dataframe thead th {\n",
       "        text-align: right;\n",
       "    }\n",
       "</style>\n",
       "<table border=\"1\" class=\"dataframe\">\n",
       "  <thead>\n",
       "    <tr style=\"text-align: right;\">\n",
       "      <th></th>\n",
       "      <th>f[GHz]</th>\n",
       "      <th>theta[deg]</th>\n",
       "      <th>phi[deg]</th>\n",
       "      <th>RCS[dB]</th>\n",
       "    </tr>\n",
       "  </thead>\n",
       "  <tbody>\n",
       "    <tr>\n",
       "      <th>count</th>\n",
       "      <td>491415.000000</td>\n",
       "      <td>491415.000000</td>\n",
       "      <td>491415.000000</td>\n",
       "      <td>491415.000000</td>\n",
       "    </tr>\n",
       "    <tr>\n",
       "      <th>mean</th>\n",
       "      <td>33.000000</td>\n",
       "      <td>0.000000</td>\n",
       "      <td>90.000000</td>\n",
       "      <td>-15.172561</td>\n",
       "    </tr>\n",
       "    <tr>\n",
       "      <th>std</th>\n",
       "      <td>4.320498</td>\n",
       "      <td>52.249455</td>\n",
       "      <td>52.249455</td>\n",
       "      <td>6.726536</td>\n",
       "    </tr>\n",
       "    <tr>\n",
       "      <th>min</th>\n",
       "      <td>26.000000</td>\n",
       "      <td>-90.000000</td>\n",
       "      <td>0.000000</td>\n",
       "      <td>-71.563000</td>\n",
       "    </tr>\n",
       "    <tr>\n",
       "      <th>25%</th>\n",
       "      <td>29.000000</td>\n",
       "      <td>-45.000000</td>\n",
       "      <td>45.000000</td>\n",
       "      <td>-19.001000</td>\n",
       "    </tr>\n",
       "    <tr>\n",
       "      <th>50%</th>\n",
       "      <td>33.000000</td>\n",
       "      <td>0.000000</td>\n",
       "      <td>90.000000</td>\n",
       "      <td>-14.826000</td>\n",
       "    </tr>\n",
       "    <tr>\n",
       "      <th>75%</th>\n",
       "      <td>37.000000</td>\n",
       "      <td>45.000000</td>\n",
       "      <td>135.000000</td>\n",
       "      <td>-11.053000</td>\n",
       "    </tr>\n",
       "    <tr>\n",
       "      <th>max</th>\n",
       "      <td>40.000000</td>\n",
       "      <td>90.000000</td>\n",
       "      <td>180.000000</td>\n",
       "      <td>10.431000</td>\n",
       "    </tr>\n",
       "  </tbody>\n",
       "</table>\n",
       "</div>"
      ],
      "text/plain": [
       "              f[GHz]     theta[deg]       phi[deg]        RCS[dB]\n",
       "count  491415.000000  491415.000000  491415.000000  491415.000000\n",
       "mean       33.000000       0.000000      90.000000     -15.172561\n",
       "std         4.320498      52.249455      52.249455       6.726536\n",
       "min        26.000000     -90.000000       0.000000     -71.563000\n",
       "25%        29.000000     -45.000000      45.000000     -19.001000\n",
       "50%        33.000000       0.000000      90.000000     -14.826000\n",
       "75%        37.000000      45.000000     135.000000     -11.053000\n",
       "max        40.000000      90.000000     180.000000      10.431000"
      ]
     },
     "execution_count": 44,
     "metadata": {},
     "output_type": "execute_result"
    }
   ],
   "source": [
    "df.describe()"
   ]
  },
  {
   "cell_type": "markdown",
   "id": "7a67fd7a",
   "metadata": {},
   "source": [
    "### Adding NAME Column"
   ]
  },
  {
   "cell_type": "code",
   "execution_count": 84,
   "id": "6229b4a1",
   "metadata": {},
   "outputs": [
    {
     "data": {
      "text/html": [
       "<div>\n",
       "<style scoped>\n",
       "    .dataframe tbody tr th:only-of-type {\n",
       "        vertical-align: middle;\n",
       "    }\n",
       "\n",
       "    .dataframe tbody tr th {\n",
       "        vertical-align: top;\n",
       "    }\n",
       "\n",
       "    .dataframe thead th {\n",
       "        text-align: right;\n",
       "    }\n",
       "</style>\n",
       "<table border=\"1\" class=\"dataframe\">\n",
       "  <thead>\n",
       "    <tr style=\"text-align: right;\">\n",
       "      <th></th>\n",
       "      <th>f[GHz]</th>\n",
       "      <th>theta[deg]</th>\n",
       "      <th>phi[deg]</th>\n",
       "      <th>RCS[dB]</th>\n",
       "      <th>Type</th>\n",
       "    </tr>\n",
       "  </thead>\n",
       "  <tbody>\n",
       "    <tr>\n",
       "      <th>0</th>\n",
       "      <td>26</td>\n",
       "      <td>-90</td>\n",
       "      <td>0</td>\n",
       "      <td>-36.674</td>\n",
       "      <td>F450_HH</td>\n",
       "    </tr>\n",
       "    <tr>\n",
       "      <th>1</th>\n",
       "      <td>26</td>\n",
       "      <td>-89</td>\n",
       "      <td>0</td>\n",
       "      <td>-32.870</td>\n",
       "      <td>F450_HH</td>\n",
       "    </tr>\n",
       "    <tr>\n",
       "      <th>2</th>\n",
       "      <td>26</td>\n",
       "      <td>-88</td>\n",
       "      <td>0</td>\n",
       "      <td>-27.646</td>\n",
       "      <td>F450_HH</td>\n",
       "    </tr>\n",
       "    <tr>\n",
       "      <th>3</th>\n",
       "      <td>26</td>\n",
       "      <td>-87</td>\n",
       "      <td>0</td>\n",
       "      <td>-21.883</td>\n",
       "      <td>F450_HH</td>\n",
       "    </tr>\n",
       "    <tr>\n",
       "      <th>4</th>\n",
       "      <td>26</td>\n",
       "      <td>-86</td>\n",
       "      <td>0</td>\n",
       "      <td>-18.182</td>\n",
       "      <td>F450_HH</td>\n",
       "    </tr>\n",
       "  </tbody>\n",
       "</table>\n",
       "</div>"
      ],
      "text/plain": [
       "   f[GHz]  theta[deg]  phi[deg]  RCS[dB]     Type\n",
       "0      26         -90         0  -36.674  F450_HH\n",
       "1      26         -89         0  -32.870  F450_HH\n",
       "2      26         -88         0  -27.646  F450_HH\n",
       "3      26         -87         0  -21.883  F450_HH\n",
       "4      26         -86         0  -18.182  F450_HH"
      ]
     },
     "execution_count": 84,
     "metadata": {},
     "output_type": "execute_result"
    }
   ],
   "source": [
    "df['Type'] = 'F450_HH'\n",
    "df.head()"
   ]
  },
  {
   "cell_type": "markdown",
   "id": "a0bdab70",
   "metadata": {},
   "source": [
    "### Exporting to .CSV"
   ]
  },
  {
   "cell_type": "code",
   "execution_count": 46,
   "id": "f04c1777",
   "metadata": {},
   "outputs": [],
   "source": [
    "df.to_csv('F450_HH_Type.csv')"
   ]
  },
  {
   "cell_type": "markdown",
   "id": "bc2f0417",
   "metadata": {},
   "source": [
    "### Importing another .CSV"
   ]
  },
  {
   "cell_type": "code",
   "execution_count": 85,
   "id": "b13e2d85",
   "metadata": {},
   "outputs": [
    {
     "data": {
      "text/html": [
       "<div>\n",
       "<style scoped>\n",
       "    .dataframe tbody tr th:only-of-type {\n",
       "        vertical-align: middle;\n",
       "    }\n",
       "\n",
       "    .dataframe tbody tr th {\n",
       "        vertical-align: top;\n",
       "    }\n",
       "\n",
       "    .dataframe thead th {\n",
       "        text-align: right;\n",
       "    }\n",
       "</style>\n",
       "<table border=\"1\" class=\"dataframe\">\n",
       "  <thead>\n",
       "    <tr style=\"text-align: right;\">\n",
       "      <th></th>\n",
       "      <th>f[GHz]</th>\n",
       "      <th>theta[deg]</th>\n",
       "      <th>phi[deg]</th>\n",
       "      <th>RCS[dB]</th>\n",
       "      <th>Type</th>\n",
       "    </tr>\n",
       "  </thead>\n",
       "  <tbody>\n",
       "    <tr>\n",
       "      <th>0</th>\n",
       "      <td>26</td>\n",
       "      <td>-90</td>\n",
       "      <td>0</td>\n",
       "      <td>-9.8879</td>\n",
       "      <td>Heli_HH</td>\n",
       "    </tr>\n",
       "    <tr>\n",
       "      <th>1</th>\n",
       "      <td>26</td>\n",
       "      <td>-89</td>\n",
       "      <td>0</td>\n",
       "      <td>-20.9020</td>\n",
       "      <td>Heli_HH</td>\n",
       "    </tr>\n",
       "    <tr>\n",
       "      <th>2</th>\n",
       "      <td>26</td>\n",
       "      <td>-88</td>\n",
       "      <td>0</td>\n",
       "      <td>-24.2860</td>\n",
       "      <td>Heli_HH</td>\n",
       "    </tr>\n",
       "    <tr>\n",
       "      <th>3</th>\n",
       "      <td>26</td>\n",
       "      <td>-87</td>\n",
       "      <td>0</td>\n",
       "      <td>-12.8000</td>\n",
       "      <td>Heli_HH</td>\n",
       "    </tr>\n",
       "    <tr>\n",
       "      <th>4</th>\n",
       "      <td>26</td>\n",
       "      <td>-86</td>\n",
       "      <td>0</td>\n",
       "      <td>-19.6170</td>\n",
       "      <td>Heli_HH</td>\n",
       "    </tr>\n",
       "  </tbody>\n",
       "</table>\n",
       "</div>"
      ],
      "text/plain": [
       "   f[GHz]  theta[deg]  phi[deg]  RCS[dB]     Type\n",
       "0      26         -90         0  -9.8879  Heli_HH\n",
       "1      26         -89         0 -20.9020  Heli_HH\n",
       "2      26         -88         0 -24.2860  Heli_HH\n",
       "3      26         -87         0 -12.8000  Heli_HH\n",
       "4      26         -86         0 -19.6170  Heli_HH"
      ]
     },
     "execution_count": 85,
     "metadata": {},
     "output_type": "execute_result"
    }
   ],
   "source": [
    "df1 = pd.read_csv('Drone_RCS_Measurement_Dataset/Heli_HH.csv')\n",
    "df1.isnull().values.any()\n",
    "df1['Type'] = 'Heli_HH'\n",
    "df1.to_csv('Heli_HH_Type.csv')\n",
    "df1.head()"
   ]
  },
  {
   "cell_type": "markdown",
   "id": "7202a514",
   "metadata": {},
   "source": [
    "## Trying to ML"
   ]
  },
  {
   "cell_type": "code",
   "execution_count": 88,
   "id": "8009c782",
   "metadata": {},
   "outputs": [],
   "source": [
    "from sklearn.tree import DecisionTreeClassifier\n",
    "from sklearn.model_selection import train_test_split\n",
    "from sklearn.metrics import accuracy_score\n",
    "\n",
    "# X, Y are for DF\n",
    "# X = df.drop(columns=['Type'])\n",
    "# Y = df['Type']\n",
    "# X_train, X_test, Y_train, Y_test = train_test_split(X, Y, test_size=0.2)\n",
    "\n",
    "\n",
    "# X1, Y1 are for DF1\n",
    "X1 = df1.drop(columns=['Type'])\n",
    "Y1 = df1['Type']\n",
    "X1_train, X1_test, Y1_train, Y1_test = train_test_split(X1, Y1, test_size=0.2)\n",
    "\n",
    "# model\n",
    "model = DecisionTreeClassifier()\n",
    "model.fit(X_train, Y_train)\n",
    "model.fit(X1_train, Y1_train)\n",
    "\n",
    "#predictions\n",
    "prediction = model.predict(X_test)\n",
    "prediction1 = model.predict(X1_test)\n",
    "\n",
    "score = accuracy_score(Y_test, prediction)\n",
    "score1 = accuracy_score(Y1_test, prediction1)\n",
    "\n",
    "print(score)\n",
    "print(\"diocane\")\n",
    "print(score1)"
   ]
  },
  {
   "cell_type": "markdown",
   "id": "246eaec3",
   "metadata": {},
   "source": [
    "### That didn't worked out"
   ]
  },
  {
   "cell_type": "markdown",
   "id": "c83b73f3",
   "metadata": {},
   "source": [
    "## Merging the dataframes"
   ]
  },
  {
   "cell_type": "code",
   "execution_count": 86,
   "id": "0b508d13",
   "metadata": {},
   "outputs": [
    {
     "name": "stdout",
     "output_type": "stream",
     "text": [
      "        f[GHz]  theta[deg]  phi[deg]   RCS[dB]     Type\n",
      "0           26         -90         0 -36.67400  F450_HH\n",
      "1           26         -89         0 -32.87000  F450_HH\n",
      "2           26         -88         0 -27.64600  F450_HH\n",
      "3           26         -87         0 -21.88300  F450_HH\n",
      "4           26         -86         0 -18.18200  F450_HH\n",
      "...        ...         ...       ...       ...      ...\n",
      "491410      40          86       180  -0.85614  Heli_HH\n",
      "491411      40          87       180  -2.61810  Heli_HH\n",
      "491412      40          88       180   0.30486  Heli_HH\n",
      "491413      40          89       180  -0.41914  Heli_HH\n",
      "491414      40          90       180  -1.99710  Heli_HH\n",
      "\n",
      "[982830 rows x 5 columns]\n"
     ]
    }
   ],
   "source": [
    "# df, df1\n",
    "frames = [df, df1]\n",
    "result = pd.concat(frames)\n",
    "print(result)"
   ]
  },
  {
   "cell_type": "markdown",
   "id": "36e432e6",
   "metadata": {},
   "source": [
    "### Testing ML"
   ]
  },
  {
   "cell_type": "code",
   "execution_count": 91,
   "id": "4154f680",
   "metadata": {},
   "outputs": [
    {
     "name": "stdout",
     "output_type": "stream",
     "text": [
      "0.5523640914501999\n"
     ]
    }
   ],
   "source": [
    "# X, Y are for DF\n",
    "X2 = result.drop(columns=['Type'])\n",
    "Y2 = result['Type']\n",
    "X2_train, X2_test, Y2_train, Y2_test = train_test_split(X2, Y2, test_size=0.2)\n",
    "\n",
    "\n",
    "# model\n",
    "model2 = DecisionTreeClassifier()\n",
    "model2.fit(X2_train, Y2_train)\n",
    "\n",
    "\n",
    "#predictions\n",
    "prediction2 = model2.predict(X2_test)\n",
    "\n",
    "\n",
    "score2 = accuracy_score(Y2_test, prediction2)\n",
    "\n",
    "print(score2)\n"
   ]
  },
  {
   "cell_type": "code",
   "execution_count": null,
   "id": "8cf0b6e6",
   "metadata": {},
   "outputs": [],
   "source": []
  },
  {
   "cell_type": "code",
   "execution_count": null,
   "id": "6c66a5dc",
   "metadata": {},
   "outputs": [],
   "source": []
  },
  {
   "cell_type": "code",
   "execution_count": null,
   "id": "35c24924",
   "metadata": {},
   "outputs": [],
   "source": []
  },
  {
   "cell_type": "code",
   "execution_count": null,
   "id": "1471a469",
   "metadata": {},
   "outputs": [],
   "source": []
  },
  {
   "cell_type": "code",
   "execution_count": null,
   "id": "82256e88",
   "metadata": {},
   "outputs": [],
   "source": []
  },
  {
   "cell_type": "markdown",
   "id": "7d901716",
   "metadata": {},
   "source": [
    "##### E' gia' qualcosa"
   ]
  },
  {
   "cell_type": "code",
   "execution_count": null,
   "id": "965acc32",
   "metadata": {},
   "outputs": [],
   "source": []
  }
 ],
 "metadata": {
  "kernelspec": {
   "display_name": "Python 3 (ipykernel)",
   "language": "python",
   "name": "python3"
  },
  "language_info": {
   "codemirror_mode": {
    "name": "ipython",
    "version": 3
   },
   "file_extension": ".py",
   "mimetype": "text/x-python",
   "name": "python",
   "nbconvert_exporter": "python",
   "pygments_lexer": "ipython3",
   "version": "3.9.7"
  }
 },
 "nbformat": 4,
 "nbformat_minor": 5
}

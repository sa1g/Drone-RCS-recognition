{
 "cells": [
  {
   "cell_type": "markdown",
   "id": "13c5186e",
   "metadata": {},
   "source": [
    "## Importing Panda"
   ]
  },
  {
   "cell_type": "code",
   "execution_count": 1,
   "id": "b9f83914",
   "metadata": {},
   "outputs": [],
   "source": [
    "import pandas as pd"
   ]
  },
  {
   "cell_type": "markdown",
   "id": "24cb9364",
   "metadata": {},
   "source": [
    "### Importing CSVs"
   ]
  },
  {
   "cell_type": "code",
   "execution_count": 4,
   "id": "118d177c",
   "metadata": {},
   "outputs": [],
   "source": [
    "df = pd.read_csv('Drone_RCS_Measurement_Dataset/F450_HH.csv')\n",
    "df1 = pd.read_csv('Drone_RCS_Measurement_Dataset/Heli_HH.csv')"
   ]
  },
  {
   "cell_type": "markdown",
   "id": "067d74b0",
   "metadata": {},
   "source": [
    "### Adding name column"
   ]
  },
  {
   "cell_type": "code",
   "execution_count": 5,
   "id": "8b353322",
   "metadata": {},
   "outputs": [
    {
     "data": {
      "text/html": [
       "<div>\n",
       "<style scoped>\n",
       "    .dataframe tbody tr th:only-of-type {\n",
       "        vertical-align: middle;\n",
       "    }\n",
       "\n",
       "    .dataframe tbody tr th {\n",
       "        vertical-align: top;\n",
       "    }\n",
       "\n",
       "    .dataframe thead th {\n",
       "        text-align: right;\n",
       "    }\n",
       "</style>\n",
       "<table border=\"1\" class=\"dataframe\">\n",
       "  <thead>\n",
       "    <tr style=\"text-align: right;\">\n",
       "      <th></th>\n",
       "      <th>f[GHz]</th>\n",
       "      <th>theta[deg]</th>\n",
       "      <th>phi[deg]</th>\n",
       "      <th>RCS[dB]</th>\n",
       "      <th>Type</th>\n",
       "    </tr>\n",
       "  </thead>\n",
       "  <tbody>\n",
       "    <tr>\n",
       "      <th>0</th>\n",
       "      <td>26</td>\n",
       "      <td>-90</td>\n",
       "      <td>0</td>\n",
       "      <td>-36.674</td>\n",
       "      <td>0</td>\n",
       "    </tr>\n",
       "    <tr>\n",
       "      <th>1</th>\n",
       "      <td>26</td>\n",
       "      <td>-89</td>\n",
       "      <td>0</td>\n",
       "      <td>-32.870</td>\n",
       "      <td>0</td>\n",
       "    </tr>\n",
       "    <tr>\n",
       "      <th>2</th>\n",
       "      <td>26</td>\n",
       "      <td>-88</td>\n",
       "      <td>0</td>\n",
       "      <td>-27.646</td>\n",
       "      <td>0</td>\n",
       "    </tr>\n",
       "    <tr>\n",
       "      <th>3</th>\n",
       "      <td>26</td>\n",
       "      <td>-87</td>\n",
       "      <td>0</td>\n",
       "      <td>-21.883</td>\n",
       "      <td>0</td>\n",
       "    </tr>\n",
       "    <tr>\n",
       "      <th>4</th>\n",
       "      <td>26</td>\n",
       "      <td>-86</td>\n",
       "      <td>0</td>\n",
       "      <td>-18.182</td>\n",
       "      <td>0</td>\n",
       "    </tr>\n",
       "  </tbody>\n",
       "</table>\n",
       "</div>"
      ],
      "text/plain": [
       "   f[GHz]  theta[deg]  phi[deg]  RCS[dB]  Type\n",
       "0      26         -90         0  -36.674     0\n",
       "1      26         -89         0  -32.870     0\n",
       "2      26         -88         0  -27.646     0\n",
       "3      26         -87         0  -21.883     0\n",
       "4      26         -86         0  -18.182     0"
      ]
     },
     "execution_count": 5,
     "metadata": {},
     "output_type": "execute_result"
    }
   ],
   "source": [
    "df['Type'] = 0\n",
    "df1['Type'] = 1\n",
    "df.head()"
   ]
  },
  {
   "cell_type": "code",
   "execution_count": 6,
   "id": "0315b091",
   "metadata": {},
   "outputs": [],
   "source": [
    "# df.head()"
   ]
  },
  {
   "cell_type": "code",
   "execution_count": 7,
   "id": "6450474c",
   "metadata": {},
   "outputs": [],
   "source": [
    "# df1.head()"
   ]
  },
  {
   "cell_type": "markdown",
   "id": "b75a3218",
   "metadata": {},
   "source": [
    "### Removing theta and phi columns from the dataset"
   ]
  },
  {
   "cell_type": "markdown",
   "id": "18fc4212",
   "metadata": {},
   "source": [
    "###### 2 columns are useless: theta[deg], phi[deg]"
   ]
  },
  {
   "cell_type": "code",
   "execution_count": 8,
   "id": "a90a5997",
   "metadata": {},
   "outputs": [],
   "source": [
    "df_reduced = df.drop(columns=['theta[deg]', 'phi[deg]'])\n",
    "df1_reduced = df1.drop(columns=['theta[deg]', 'phi[deg]'])"
   ]
  },
  {
   "cell_type": "markdown",
   "id": "80f5ad64",
   "metadata": {},
   "source": [
    "### Merging df_reduced and df1_reduced"
   ]
  },
  {
   "cell_type": "code",
   "execution_count": 9,
   "id": "9e761365",
   "metadata": {},
   "outputs": [
    {
     "name": "stdout",
     "output_type": "stream",
     "text": [
      "        f[GHz]   RCS[dB]  Type\n",
      "0           26 -36.67400     0\n",
      "1           26 -32.87000     0\n",
      "2           26 -27.64600     0\n",
      "3           26 -21.88300     0\n",
      "4           26 -18.18200     0\n",
      "...        ...       ...   ...\n",
      "491410      40  -0.85614     1\n",
      "491411      40  -2.61810     1\n",
      "491412      40   0.30486     1\n",
      "491413      40  -0.41914     1\n",
      "491414      40  -1.99710     1\n",
      "\n",
      "[982830 rows x 3 columns]\n"
     ]
    }
   ],
   "source": [
    "frames = [df_reduced, df1_reduced]\n",
    "result = pd.concat(frames)\n",
    "print(result)"
   ]
  },
  {
   "cell_type": "markdown",
   "id": "0ce32794",
   "metadata": {},
   "source": [
    "### Saving result as csv"
   ]
  },
  {
   "cell_type": "code",
   "execution_count": 10,
   "id": "69602e3a",
   "metadata": {},
   "outputs": [],
   "source": [
    "result.to_csv('merged_df.csv')"
   ]
  },
  {
   "cell_type": "markdown",
   "id": "33e3225d",
   "metadata": {},
   "source": [
    "# ML Test"
   ]
  },
  {
   "cell_type": "markdown",
   "id": "a0d61601",
   "metadata": {},
   "source": [
    "1.1.1. Ordinary Least Squares"
   ]
  },
  {
   "cell_type": "code",
   "execution_count": 95,
   "id": "d182ee71",
   "metadata": {},
   "outputs": [
    {
     "name": "stdout",
     "output_type": "stream",
     "text": [
      "Coefficients: \n",
      " [-3.37020516e-05 -6.75682008e-05]\n",
      "Mean squared error: 0.25\n",
      "Coefficient of determination: -0.00\n"
     ]
    },
    {
     "data": {
      "image/png": "[encoded data removed]",
      "text/plain": [
       "<Figure size 432x288 with 1 Axes>"
      ]
     },
     "metadata": {},
     "output_type": "display_data"
    }
   ],
   "source": [
    "import matplotlib.pyplot as plt\n",
    "import numpy as np\n",
    "from sklearn import datasets, linear_model\n",
    "from sklearn.metrics import mean_squared_error, r2_score\n",
    "\n",
    "from sklearn.model_selection import train_test_split\n",
    "from sklearn.metrics import accuracy_score\n",
    "\n",
    "\n",
    "# Split data into data/target\n",
    "X = result.drop(columns=['Type'])\n",
    "Y = result['Type']\n",
    "\n",
    "# Split data/targer into training/testing sets\n",
    "X_train, X_test, Y_train, Y_test = train_test_split(X, Y, test_size=0.2)\n",
    "\n",
    "# Create linear regression object\n",
    "regr = linear_model.LinearRegression()\n",
    "\n",
    "# Train the model using the training sets\n",
    "regr.fit(X_train, Y_train)\n",
    "\n",
    "# Make predictions using the testing set\n",
    "Y_pred = regr.predict(X_test)\n",
    "\n",
    "# The coefficients\n",
    "print(\"Coefficients: \\n\", regr.coef_)\n",
    "# The mean squared error\n",
    "print(\"Mean squared error: %.2f\" % mean_squared_error(Y_test, Y_pred))\n",
    "# The coefficient of determination: 1 is perfect prediction\n",
    "print(\"Coefficient of determination: %.2f\" % r2_score(Y_test, Y_pred))\n",
    "\n",
    "\n",
    "# Plot outputs\n",
    "plt.scatter(X_test.iloc[0:, 1], Y_test, color=\"black\")\n",
    "plt.plot(X_test, Y_pred, color=\"blue\", linewidth=3)\n",
    "\n",
    "plt.xticks(())\n",
    "plt.yticks(())\n",
    "\n",
    "plt.show()\n"
   ]
  }
 ],
 "metadata": {
  "kernelspec": {
   "display_name": "Python 3 (ipykernel)",
   "language": "python",
   "name": "python3"
  },
  "language_info": {
   "codemirror_mode": {
    "name": "ipython",
    "version": 3
   },
   "file_extension": ".py",
   "mimetype": "text/x-python",
   "name": "python",
   "nbconvert_exporter": "python",
   "pygments_lexer": "ipython3",
   "version": "3.9.7"
  }
 },
 "nbformat": 4,
 "nbformat_minor": 5
}

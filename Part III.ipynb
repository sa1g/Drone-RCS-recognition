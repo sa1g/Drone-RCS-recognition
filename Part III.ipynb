{
 "cells": [
  {
   "cell_type": "markdown",
   "id": "1bfd5b71",
   "metadata": {},
   "source": [
    "## Importing Panda"
   ]
  },
  {
   "cell_type": "code",
   "execution_count": 2,
   "id": "d0b28e3d",
   "metadata": {},
   "outputs": [],
   "source": [
    "import pandas as pd"
   ]
  },
  {
   "cell_type": "markdown",
   "id": "38c15f9e",
   "metadata": {},
   "source": [
    "## Importing CSVs"
   ]
  },
  {
   "cell_type": "code",
   "execution_count": 3,
   "id": "d060525a",
   "metadata": {},
   "outputs": [],
   "source": [
    "df0 = pd.read_csv('Drone_RCS_Measurement_Dataset/P4P_HH.csv')\n",
    "df1 = pd.read_csv('Drone_RCS_Measurement_Dataset/F450_HH.csv')\n",
    "df2 = pd.read_csv('Drone_RCS_Measurement_Dataset/Heli_HH.csv')\n",
    "df3 = pd.read_csv('Drone_RCS_Measurement_Dataset/Hexa_HH.csv')\n",
    "df4 = pd.read_csv('Drone_RCS_Measurement_Dataset/M100_HH.csv')\n",
    "df5 = pd.read_csv('Drone_RCS_Measurement_Dataset/Y600_HH.csv')\n",
    "df6 = pd.read_csv('Drone_RCS_Measurement_Dataset/Mavic_HH.csv')\n",
    "df7 = pd.read_csv('Drone_RCS_Measurement_Dataset/Parrot_HH.csv')\n",
    "df8 = pd.read_csv('Drone_RCS_Measurement_Dataset/battery_HH.csv')\n",
    "df9 = pd.read_csv('Drone_RCS_Measurement_Dataset/Walkera_HH.csv')"
   ]
  },
  {
   "cell_type": "markdown",
   "id": "b5cf336c",
   "metadata": {},
   "source": [
    "## Adding Name column"
   ]
  },
  {
   "cell_type": "code",
   "execution_count": 4,
   "id": "31440c5b",
   "metadata": {},
   "outputs": [],
   "source": [
    "df0['Type'] = '0'\n",
    "df1['Type'] = '1'\n",
    "df2['Type'] = '2'\n",
    "df3['Type'] = '3'\n",
    "df4['Type'] = '4'\n",
    "df5['Type'] = '5'\n",
    "df6['Type'] = '6'\n",
    "df7['Type'] = '7'\n",
    "df8['Type'] = '8'\n",
    "df9['Type'] = '9'"
   ]
  },
  {
   "cell_type": "markdown",
   "id": "a8d6bb3c",
   "metadata": {},
   "source": [
    "## Merging all datasets"
   ]
  },
  {
   "cell_type": "code",
   "execution_count": 12,
   "id": "91dda198",
   "metadata": {
    "scrolled": true
   },
   "outputs": [
    {
     "name": "stdout",
     "output_type": "stream",
     "text": [
      "         f[GHz]  theta[deg]  phi[deg]  RCS[dB] Type\n",
      "0            26         -95         0 -13.8250    0\n",
      "1            26         -94         0 -13.6300    0\n",
      "2            26         -93         0 -27.9430    0\n",
      "3            26         -92         0 -11.8610    0\n",
      "4            26         -91         0 -12.1860    0\n",
      "...         ...         ...       ...      ...  ...\n",
      "4655545      40          91       180   1.9699    9\n",
      "4655546      40          92       180  -5.3061    9\n",
      "4655547      40          93       180  -5.7171    9\n",
      "4655548      40          94       180 -27.2100    9\n",
      "4655549      40          95       180 -15.3950    9\n",
      "\n",
      "[4655550 rows x 5 columns]\n"
     ]
    }
   ],
   "source": [
    "frames = [df0, df1, df2, df3, df4, df5, df6, df7, df8, df9]\n",
    "#frames = [df0, df1, df2]\n",
    "\n",
    "result = pd.concat(frames)\n",
    "result.reset_index(drop=True, inplace=True)\n",
    "print(result)"
   ]
  },
  {
   "cell_type": "markdown",
   "id": "05df8358",
   "metadata": {},
   "source": [
    "### Exporting CSV "
   ]
  },
  {
   "cell_type": "code",
   "execution_count": 13,
   "id": "c1e8a0de",
   "metadata": {},
   "outputs": [],
   "source": [
    "result.to_csv('merged_df.csv')"
   ]
  },
  {
   "cell_type": "markdown",
   "id": "db0f1203",
   "metadata": {},
   "source": [
    "### Linear Regression"
   ]
  },
  {
   "cell_type": "code",
   "execution_count": 14,
   "id": "89140cac",
   "metadata": {
    "scrolled": true
   },
   "outputs": [
    {
     "name": "stdout",
     "output_type": "stream",
     "text": [
      "0.08665105829040542\n",
      "[-0.00211722  0.007764   -0.00816264  0.00918659]\n",
      "4.851935865210905\n"
     ]
    }
   ],
   "source": [
    "import numpy as np\n",
    "from sklearn.linear_model import LinearRegression\n",
    "from sklearn.linear_model import Perceptron\n",
    "from sklearn.preprocessing import PolynomialFeatures\n",
    "# , 'theta[deg]', 'phi[deg]'\n",
    "X = result.drop(columns=['Type'])\n",
    "#print(X)\n",
    "y = result['Type']\n",
    "#print(y)\n",
    "reg = LinearRegression().fit(X, y)\n",
    "print(reg.score(X,y))\n",
    "print(reg.coef_)\n",
    "print(reg.intercept_)"
   ]
  },
  {
   "cell_type": "markdown",
   "id": "70269fe3",
   "metadata": {},
   "source": [
    "### Ridge"
   ]
  },
  {
   "cell_type": "code",
   "execution_count": 38,
   "id": "9c3d087d",
   "metadata": {},
   "outputs": [
    {
     "name": "stdout",
     "output_type": "stream",
     "text": [
      "0.08665105829040576\n",
      "[-0.00211722  0.007764   -0.00816264  0.00918659]\n",
      "4.851935864362599\n"
     ]
    }
   ],
   "source": [
    "from sklearn import linear_model\n",
    "\n",
    "reg1 = linear_model.Ridge(alpha=.5)\n",
    "reg1.fit(X, y)\n",
    "print(reg1.score(X,y))\n",
    "print(reg1.coef_)\n",
    "print(reg1.intercept_)"
   ]
  },
  {
   "cell_type": "markdown",
   "id": "90c2d306",
   "metadata": {},
   "source": [
    "### Lasso - so a priori che va peggio"
   ]
  },
  {
   "cell_type": "code",
   "execution_count": 40,
   "id": "72e9ecd9",
   "metadata": {},
   "outputs": [
    {
     "name": "stdout",
     "output_type": "stream",
     "text": [
      "0.08661570762440196\n",
      "[-0.          0.00772604 -0.00812141  0.0071198 ]\n",
      "4.751493846379054\n"
     ]
    }
   ],
   "source": [
    "reg2 = linear_model.Lasso(alpha=.1)\n",
    "reg2.fit(X, y)\n",
    "print(reg2.score(X,y))\n",
    "print(reg2.coef_)\n",
    "print(reg2.intercept_)"
   ]
  },
  {
   "cell_type": "markdown",
   "id": "633ca737",
   "metadata": {},
   "source": [
    "### LARS Lasso"
   ]
  },
  {
   "cell_type": "code",
   "execution_count": 44,
   "id": "44bc72d4",
   "metadata": {},
   "outputs": [
    {
     "name": "stdout",
     "output_type": "stream",
     "text": [
      "0.08661570714097155\n",
      "[ 0.          0.00772603 -0.00812142  0.00711979]\n",
      "4.751494043872992\n"
     ]
    }
   ],
   "source": [
    "reg3 = linear_model.LassoLars(alpha=.1, normalize=False)\n",
    "reg3.fit(X, y)\n",
    "print(reg3.score(X,y))\n",
    "print(reg3.coef_)\n",
    "print(reg3.intercept_)"
   ]
  },
  {
   "cell_type": "markdown",
   "id": "100c1df1",
   "metadata": {},
   "source": [
    "### LARS"
   ]
  },
  {
   "cell_type": "code",
   "execution_count": 46,
   "id": "7276db3e",
   "metadata": {},
   "outputs": [
    {
     "name": "stdout",
     "output_type": "stream",
     "text": [
      "1.7763568394002505e-14\n",
      "[ 0.00000000e+00  0.00000000e+00 -1.30101449e-15  0.00000000e+00]\n",
      "4.223942391339461\n"
     ]
    }
   ],
   "source": [
    "reg4 = linear_model.Lars(n_nonzero_coefs=1, normalize=False)\n",
    "reg4.fit(X, y)\n",
    "print(reg4.score(X,y))\n",
    "print(reg4.coef_)\n",
    "print(reg4.intercept_)"
   ]
  },
  {
   "cell_type": "markdown",
   "id": "2bc6744f",
   "metadata": {},
   "source": [
    "### Orthogonal MAtching Pursuit"
   ]
  },
  {
   "cell_type": "markdown",
   "id": "2e859b39",
   "metadata": {},
   "source": [
    "### Bayesian Regression"
   ]
  },
  {
   "cell_type": "code",
   "execution_count": 47,
   "id": "23a691e7",
   "metadata": {},
   "outputs": [
    {
     "name": "stdout",
     "output_type": "stream",
     "text": [
      "0.08665105807552353\n",
      "[-0.00211277  0.00776391 -0.00816254  0.00918129]\n",
      "4.851710767688039\n"
     ]
    }
   ],
   "source": [
    "reg5 = linear_model.BayesianRidge()\n",
    "reg5.fit(X, y)\n",
    "print(reg5.score(X,y))\n",
    "print(reg5.coef_)\n",
    "print(reg5.intercept_)"
   ]
  },
  {
   "cell_type": "markdown",
   "id": "63d7c7ee",
   "metadata": {},
   "source": [
    "### Generalized Linear Regression"
   ]
  },
  {
   "cell_type": "code",
   "execution_count": 52,
   "id": "14d5c9e4",
   "metadata": {},
   "outputs": [
    {
     "name": "stdout",
     "output_type": "stream",
     "text": [
      "0.0936699593369199\n",
      "[-0.00042066  0.00188587 -0.00194106  0.00172367]\n",
      "1.5587573869463482\n"
     ]
    }
   ],
   "source": [
    "# power = 0: normal, 1:poisson, 2:gamma, 3: inverse gaussian\n",
    "reg6 = linear_model.TweedieRegressor(power=0, alpha=0.5, link='log')\n",
    "reg6.fit(X, y)\n",
    "print(reg6.score(X,y))\n",
    "print(reg6.coef_)\n",
    "print(reg6.intercept_)"
   ]
  },
  {
   "cell_type": "markdown",
   "id": "0cf98841",
   "metadata": {},
   "source": [
    "### Polynomial regression: extending linear models with basis functions¶\n",
    "[Scikit Learn Docs](https://scikit-learn.org/stable/modules/linear_model.html#orthogonal-matching-pursuit-omp)"
   ]
  },
  {
   "cell_type": "code",
   "execution_count": 12,
   "id": "267f3c18",
   "metadata": {},
   "outputs": [
    {
     "data": {
      "text/plain": [
       "0.1593760135751952"
      ]
     },
     "execution_count": 12,
     "metadata": {},
     "output_type": "execute_result"
    }
   ],
   "source": [
    "# from sklearn.linear_model import Perceptron\n",
    "# from sklearn.preprocessing import PolynomialFeatures\n",
    "# import numpy as np\n",
    "\n",
    "X = PolynomialFeatures(interaction_only=True).fit_transform(X).astype(int)\n",
    "clf = Perceptron(fit_intercept=True, max_iter=50, tol=None, shuffle=False).fit(X,y)\n",
    "\n",
    "clf.score(X,y)"
   ]
  },
  {
   "cell_type": "markdown",
   "id": "d16a6ba4",
   "metadata": {},
   "source": [
    "# SVM Classification"
   ]
  },
  {
   "cell_type": "code",
   "execution_count": 8,
   "id": "b80533e8",
   "metadata": {},
   "outputs": [],
   "source": [
    "from sklearn import svm"
   ]
  },
  {
   "cell_type": "code",
   "execution_count": null,
   "id": "e76859b8",
   "metadata": {},
   "outputs": [],
   "source": [
    "clf = svm.SVC()\n",
    "clf.fit(X,y)\n",
    "print(clf.score(X,y))"
   ]
  },
  {
   "cell_type": "markdown",
   "id": "03eb0a04",
   "metadata": {},
   "source": [
    "# SGDClassifier\n",
    "\n",
    "## Stochastic Gradient Descend"
   ]
  },
  {
   "cell_type": "code",
   "execution_count": 31,
   "id": "9a5c740e",
   "metadata": {},
   "outputs": [
    {
     "data": {
      "text/plain": [
       "0.1847811751565336"
      ]
     },
     "execution_count": 31,
     "metadata": {},
     "output_type": "execute_result"
    }
   ],
   "source": [
    "import numpy as np\n",
    "from sklearn.linear_model import SGDClassifier\n",
    "from sklearn.preprocessing import StandardScaler\n",
    "from sklearn.pipeline import make_pipeline\n",
    "clf1 = make_pipeline(StandardScaler(), SGDClassifier(n_jobs = -1, max_iter=11000, tol=1e-3, learning_rate='adaptive', eta0=1))\n",
    "clf1.fit(X,y)\n",
    "\n",
    "clf1.score(X,y)\n"
   ]
  },
  {
   "cell_type": "code",
   "execution_count": null,
   "id": "0aa191fb",
   "metadata": {},
   "outputs": [],
   "source": []
  }
 ],
 "metadata": {
  "kernelspec": {
   "display_name": "Python 3 (ipykernel)",
   "language": "python",
   "name": "python3"
  },
  "language_info": {
   "codemirror_mode": {
    "name": "ipython",
    "version": 3
   },
   "file_extension": ".py",
   "mimetype": "text/x-python",
   "name": "python",
   "nbconvert_exporter": "python",
   "pygments_lexer": "ipython3",
   "version": "3.9.7"
  }
 },
 "nbformat": 4,
 "nbformat_minor": 5
}

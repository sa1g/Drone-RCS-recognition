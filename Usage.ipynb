{
 "cells": [
  {
   "cell_type": "code",
   "execution_count": 2,
   "id": "de14db6a",
   "metadata": {},
   "outputs": [],
   "source": [
    "import pandas as pd\n",
    "import os\n",
    "\n",
    "# used to save / import models\n",
    "import joblib\n",
    "\n",
    "#my_path = !pwd\n",
    "\n",
    "filepath = !pwd[0] + \"/models/drone recognition/\"\n"
   ]
  },
  {
   "cell_type": "code",
   "execution_count": 8,
   "id": "dd2c250e",
   "metadata": {},
   "outputs": [
    {
     "data": {
      "text/plain": [
       "' \\nin pratica\\nlista commentata con tutti i train fatti -> NO std -> abbiamo detto che non serve\\n\\nscrivere che tipo di dati servono nella tabella importata.\\n\\nsi importa tabella 2 e si lascia commentato un \"così importi l\\'svc che te pare\"\\n\\ndal dataset importato si tirano fuori X e y \\n\\nsi stampano:\\nscore, predict.\\n\\nfine.\\n\\n'"
      ]
     },
     "execution_count": 8,
     "metadata": {},
     "output_type": "execute_result"
    }
   ],
   "source": [
    "# filepath = my_path[0] + \"/models/drone recognition/\"\n",
    "\n",
    "loaded_model = joblib.load(filepath + \"7-Decision Tree Classifier frequency - drone.sav\")\n",
    "\n",
    "\n",
    "\n",
    "# result = loaded_model.score(X_test, Y_test)\n",
    "# print(result)\n",
    "\n",
    "\"\"\" \n",
    "in pratica\n",
    "lista commentata con tutti i train fatti -> NO std -> abbiamo detto che non serve\n",
    "\n",
    "scrivere che tipo di dati servono nella tabella importata.\n",
    "\n",
    "si importa tabella 2 e si lascia commentato un \"così importi l'svc che te pare\"\n",
    "\n",
    "dal dataset importato si tirano fuori X e y \n",
    "\n",
    "si stampano:\n",
    "score, predict.\n",
    "\n",
    "fine.\n",
    "\n",
    "\"\"\""
   ]
  },
  {
   "cell_type": "code",
   "execution_count": null,
   "id": "963cf58e",
   "metadata": {},
   "outputs": [],
   "source": []
  }
 ],
 "metadata": {
  "kernelspec": {
   "display_name": "Python 3 (ipykernel)",
   "language": "python",
   "name": "python3"
  },
  "language_info": {
   "codemirror_mode": {
    "name": "ipython",
    "version": 3
   },
   "file_extension": ".py",
   "mimetype": "text/x-python",
   "name": "python",
   "nbconvert_exporter": "python",
   "pygments_lexer": "ipython3",
   "version": "3.9.7"
  }
 },
 "nbformat": 4,
 "nbformat_minor": 5
}

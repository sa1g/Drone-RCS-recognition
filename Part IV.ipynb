{
 "cells": [
  {
   "cell_type": "markdown",
   "id": "52b18276",
   "metadata": {},
   "source": [
    "### Libraries"
   ]
  },
  {
   "cell_type": "code",
   "execution_count": 11,
   "id": "b08409b4",
   "metadata": {},
   "outputs": [],
   "source": [
    "import pandas as pd\n",
    "from sklearn.neural_network import MLPClassifier\n",
    "from sklearn.datasets import make_classification\n",
    "from sklearn.model_selection import train_test_split"
   ]
  },
  {
   "cell_type": "markdown",
   "id": "f5c33cac",
   "metadata": {},
   "source": [
    "### Import dataframe"
   ]
  },
  {
   "cell_type": "code",
   "execution_count": 6,
   "id": "a2b78c37",
   "metadata": {},
   "outputs": [
    {
     "data": {
      "text/html": [
       "<div>\n",
       "<style scoped>\n",
       "    .dataframe tbody tr th:only-of-type {\n",
       "        vertical-align: middle;\n",
       "    }\n",
       "\n",
       "    .dataframe tbody tr th {\n",
       "        vertical-align: top;\n",
       "    }\n",
       "\n",
       "    .dataframe thead th {\n",
       "        text-align: right;\n",
       "    }\n",
       "</style>\n",
       "<table border=\"1\" class=\"dataframe\">\n",
       "  <thead>\n",
       "    <tr style=\"text-align: right;\">\n",
       "      <th></th>\n",
       "      <th>Unnamed: 0</th>\n",
       "      <th>f[GHz]</th>\n",
       "      <th>theta[deg]</th>\n",
       "      <th>phi[deg]</th>\n",
       "      <th>RCS[dB]</th>\n",
       "      <th>Type</th>\n",
       "    </tr>\n",
       "  </thead>\n",
       "  <tbody>\n",
       "    <tr>\n",
       "      <th>0</th>\n",
       "      <td>0</td>\n",
       "      <td>26</td>\n",
       "      <td>-95</td>\n",
       "      <td>0</td>\n",
       "      <td>-13.825</td>\n",
       "      <td>0</td>\n",
       "    </tr>\n",
       "    <tr>\n",
       "      <th>1</th>\n",
       "      <td>1</td>\n",
       "      <td>26</td>\n",
       "      <td>-94</td>\n",
       "      <td>0</td>\n",
       "      <td>-13.630</td>\n",
       "      <td>0</td>\n",
       "    </tr>\n",
       "    <tr>\n",
       "      <th>2</th>\n",
       "      <td>2</td>\n",
       "      <td>26</td>\n",
       "      <td>-93</td>\n",
       "      <td>0</td>\n",
       "      <td>-27.943</td>\n",
       "      <td>0</td>\n",
       "    </tr>\n",
       "    <tr>\n",
       "      <th>3</th>\n",
       "      <td>3</td>\n",
       "      <td>26</td>\n",
       "      <td>-92</td>\n",
       "      <td>0</td>\n",
       "      <td>-11.861</td>\n",
       "      <td>0</td>\n",
       "    </tr>\n",
       "    <tr>\n",
       "      <th>4</th>\n",
       "      <td>4</td>\n",
       "      <td>26</td>\n",
       "      <td>-91</td>\n",
       "      <td>0</td>\n",
       "      <td>-12.186</td>\n",
       "      <td>0</td>\n",
       "    </tr>\n",
       "  </tbody>\n",
       "</table>\n",
       "</div>"
      ],
      "text/plain": [
       "   Unnamed: 0  f[GHz]  theta[deg]  phi[deg]  RCS[dB]  Type\n",
       "0           0      26         -95         0  -13.825     0\n",
       "1           1      26         -94         0  -13.630     0\n",
       "2           2      26         -93         0  -27.943     0\n",
       "3           3      26         -92         0  -11.861     0\n",
       "4           4      26         -91         0  -12.186     0"
      ]
     },
     "execution_count": 6,
     "metadata": {},
     "output_type": "execute_result"
    }
   ],
   "source": [
    "df = pd.read_csv('merged_df.csv')\n",
    "df.head()"
   ]
  },
  {
   "cell_type": "markdown",
   "id": "19a4c900",
   "metadata": {},
   "source": [
    "### Setting X and y"
   ]
  },
  {
   "cell_type": "code",
   "execution_count": 8,
   "id": "dc099835",
   "metadata": {},
   "outputs": [],
   "source": [
    "X = df.drop(columns=['Type'])\n",
    "y = df['Type']"
   ]
  },
  {
   "cell_type": "markdown",
   "id": "0c3f9e1f",
   "metadata": {},
   "source": [
    "## neural_network.MLPClassifier - DEFAULT SETTINGS"
   ]
  },
  {
   "cell_type": "code",
   "execution_count": 13,
   "id": "a6a71a3b",
   "metadata": {},
   "outputs": [
    {
     "name": "stdout",
     "output_type": "stream",
     "text": [
      "Iteration 1, loss = 28.63689825\n",
      "Iteration 2, loss = 25.14626402\n",
      "Iteration 3, loss = 6.42834807\n",
      "Iteration 4, loss = 2.09895080\n",
      "Iteration 5, loss = 1.95944030\n",
      "Iteration 6, loss = 1.95404863\n",
      "Iteration 7, loss = 1.95349987\n",
      "Iteration 8, loss = 1.95870277\n",
      "Iteration 9, loss = 1.95419459\n",
      "Iteration 10, loss = 1.95191091\n",
      "Iteration 11, loss = 1.94616227\n",
      "Iteration 12, loss = 1.94778270\n",
      "Iteration 13, loss = 1.94889239\n",
      "Iteration 14, loss = 1.94698983\n",
      "Iteration 15, loss = 1.94907487\n",
      "Iteration 16, loss = 1.94749153\n",
      "Iteration 17, loss = 1.94595492\n",
      "Iteration 18, loss = 1.94398647\n",
      "Iteration 19, loss = 1.94574884\n",
      "Iteration 20, loss = 1.94655986\n",
      "Iteration 21, loss = 1.94619524\n",
      "Iteration 22, loss = 1.94780793\n",
      "Iteration 23, loss = 1.94698029\n",
      "Iteration 24, loss = 1.94833907\n",
      "Iteration 25, loss = 1.94801235\n",
      "Iteration 26, loss = 1.94734239\n",
      "Iteration 27, loss = 1.94711112\n",
      "Iteration 28, loss = 1.94832845\n",
      "Iteration 29, loss = 1.94670280\n",
      "Training loss did not improve more than tol=0.000100 for 10 consecutive epochs. Stopping.\n"
     ]
    },
    {
     "data": {
      "text/plain": [
       "0.19471491016099066"
      ]
     },
     "execution_count": 13,
     "metadata": {},
     "output_type": "execute_result"
    }
   ],
   "source": [
    "clf = MLPClassifier(verbose=True, random_state=1, max_iter=300).fit(X, y)\n",
    "\n",
    "clf.score(X,y)"
   ]
  }
 ],
 "metadata": {
  "kernelspec": {
   "display_name": "Python 3 (ipykernel)",
   "language": "python",
   "name": "python3"
  },
  "language_info": {
   "codemirror_mode": {
    "name": "ipython",
    "version": 3
   },
   "file_extension": ".py",
   "mimetype": "text/x-python",
   "name": "python",
   "nbconvert_exporter": "python",
   "pygments_lexer": "ipython3",
   "version": "3.9.7"
  }
 },
 "nbformat": 4,
 "nbformat_minor": 5
}
